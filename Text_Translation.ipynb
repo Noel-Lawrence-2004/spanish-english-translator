{
  "cells": [
    {
      "cell_type": "code",
      "execution_count": null,
      "metadata": {
        "id": "dMlRsgy6KVDq"
      },
      "outputs": [],
      "source": [
        "import numpy as np\n",
        "import pandas as pd\n",
        "import matplotlib.pyplot as plt\n",
        "import tensorflow as tf\n",
        "import seaborn as sns\n",
        "\n",
        "from tensorflow.keras.preprocessing.text import Tokenizer\n",
        "from tensorflow.keras.preprocessing.sequence import pad_sequences\n",
        "from tensorflow.keras.layers import Embedding, Dense, Input, Dropout, LayerNormalization"
      ]
    },
    {
      "cell_type": "code",
      "execution_count": null,
      "metadata": {
        "id": "o8rgHa_2Kjy5"
      },
      "outputs": [],
      "source": [
        "device = 'cpu'"
      ]
    },
    {
      "cell_type": "code",
      "execution_count": null,
      "metadata": {
        "colab": {
          "base_uri": "https://localhost:8080/"
        },
        "id": "x2TeyaiZKoPA",
        "outputId": "d85c68e5-93fe-42ad-985f-d9b612c984c5"
      },
      "outputs": [
        {
          "data": {
            "text/plain": [
              "120614"
            ]
          },
          "execution_count": 22,
          "metadata": {},
          "output_type": "execute_result"
        }
      ],
      "source": [
        "df = pd.read_csv('/content/english-spanish-dataset.csv')\n",
        "df=df[['english' , 'spanish']]\n",
        "df.columns = ['en','sp']\n",
        "len(df)"
      ]
    },
    {
      "cell_type": "code",
      "execution_count": null,
      "metadata": {
        "colab": {
          "base_uri": "https://localhost:8080/",
          "height": 424
        },
        "id": "MjVyz2sfKoMQ",
        "outputId": "d8fca32b-4b2c-4afa-e268-77f8f894fc6c"
      },
      "outputs": [
        {
          "data": {
            "application/vnd.google.colaboratory.intrinsic+json": {
              "summary": "{\n  \"name\": \"df\",\n  \"rows\": 40000,\n  \"fields\": [\n    {\n      \"column\": \"en\",\n      \"properties\": {\n        \"dtype\": \"string\",\n        \"num_unique_values\": 37789,\n        \"samples\": [\n          \"he is kind\",\n          \"a fence runs around the house\",\n          \"how often do you go abroad\"\n        ],\n        \"semantic_type\": \"\",\n        \"description\": \"\"\n      }\n    },\n    {\n      \"column\": \"sp\",\n      \"properties\": {\n        \"dtype\": \"string\",\n        \"num_unique_values\": 39229,\n        \"samples\": [\n          \"no fue una decision facil\",\n          \"toque el acordeon\",\n          \"conozco a vuestro padre\"\n        ],\n        \"semantic_type\": \"\",\n        \"description\": \"\"\n      }\n    }\n  ]\n}",
              "type": "dataframe",
              "variable_name": "df"
            },
            "text/html": [
              "\n",
              "  <div id=\"df-74c08993-f80e-4969-b7db-3505ddb8f6f3\" class=\"colab-df-container\">\n",
              "    <div>\n",
              "<style scoped>\n",
              "    .dataframe tbody tr th:only-of-type {\n",
              "        vertical-align: middle;\n",
              "    }\n",
              "\n",
              "    .dataframe tbody tr th {\n",
              "        vertical-align: top;\n",
              "    }\n",
              "\n",
              "    .dataframe thead th {\n",
              "        text-align: right;\n",
              "    }\n",
              "</style>\n",
              "<table border=\"1\" class=\"dataframe\">\n",
              "  <thead>\n",
              "    <tr style=\"text-align: right;\">\n",
              "      <th></th>\n",
              "      <th>en</th>\n",
              "      <th>sp</th>\n",
              "    </tr>\n",
              "  </thead>\n",
              "  <tbody>\n",
              "    <tr>\n",
              "      <th>5744</th>\n",
              "      <td>dont say that</td>\n",
              "      <td>no digas eso</td>\n",
              "    </tr>\n",
              "    <tr>\n",
              "      <th>41815</th>\n",
              "      <td>my aunt gave me a camera</td>\n",
              "      <td>mi tia me regalo una camara</td>\n",
              "    </tr>\n",
              "    <tr>\n",
              "      <th>116057</th>\n",
              "      <td>compare the two carefully and you will see the...</td>\n",
              "      <td>compara ambos atentamente y veras la diferencia</td>\n",
              "    </tr>\n",
              "    <tr>\n",
              "      <th>84561</th>\n",
              "      <td>pass me the salt and pepper please</td>\n",
              "      <td>pasadme la sal y la pimienta por favor</td>\n",
              "    </tr>\n",
              "    <tr>\n",
              "      <th>78355</th>\n",
              "      <td>she fled for fear of being caught</td>\n",
              "      <td>ella huyo por miedo a que la cogieran</td>\n",
              "    </tr>\n",
              "    <tr>\n",
              "      <th>...</th>\n",
              "      <td>...</td>\n",
              "      <td>...</td>\n",
              "    </tr>\n",
              "    <tr>\n",
              "      <th>113144</th>\n",
              "      <td>tom asked mary how many people had come to her...</td>\n",
              "      <td>tom le pregunto a mary cuantas personas habian...</td>\n",
              "    </tr>\n",
              "    <tr>\n",
              "      <th>104469</th>\n",
              "      <td>tom abandoned the idea of buying a new truck</td>\n",
              "      <td>tom abandono la idea de comprar un nuevo camion</td>\n",
              "    </tr>\n",
              "    <tr>\n",
              "      <th>44269</th>\n",
              "      <td>dont you want to kiss me</td>\n",
              "      <td>no queres besarme</td>\n",
              "    </tr>\n",
              "    <tr>\n",
              "      <th>77136</th>\n",
              "      <td>i cant see who tom is talking to</td>\n",
              "      <td>no puedo ver con quien habla tom</td>\n",
              "    </tr>\n",
              "    <tr>\n",
              "      <th>45454</th>\n",
              "      <td>i was a little bit scared</td>\n",
              "      <td>estuve un poco asustado</td>\n",
              "    </tr>\n",
              "  </tbody>\n",
              "</table>\n",
              "<p>40000 rows × 2 columns</p>\n",
              "</div>\n",
              "    <div class=\"colab-df-buttons\">\n",
              "\n",
              "  <div class=\"colab-df-container\">\n",
              "    <button class=\"colab-df-convert\" onclick=\"convertToInteractive('df-74c08993-f80e-4969-b7db-3505ddb8f6f3')\"\n",
              "            title=\"Convert this dataframe to an interactive table.\"\n",
              "            style=\"display:none;\">\n",
              "\n",
              "  <svg xmlns=\"http://www.w3.org/2000/svg\" height=\"24px\" viewBox=\"0 -960 960 960\">\n",
              "    <path d=\"M120-120v-720h720v720H120Zm60-500h600v-160H180v160Zm220 220h160v-160H400v160Zm0 220h160v-160H400v160ZM180-400h160v-160H180v160Zm440 0h160v-160H620v160ZM180-180h160v-160H180v160Zm440 0h160v-160H620v160Z\"/>\n",
              "  </svg>\n",
              "    </button>\n",
              "\n",
              "  <style>\n",
              "    .colab-df-container {\n",
              "      display:flex;\n",
              "      gap: 12px;\n",
              "    }\n",
              "\n",
              "    .colab-df-convert {\n",
              "      background-color: #E8F0FE;\n",
              "      border: none;\n",
              "      border-radius: 50%;\n",
              "      cursor: pointer;\n",
              "      display: none;\n",
              "      fill: #1967D2;\n",
              "      height: 32px;\n",
              "      padding: 0 0 0 0;\n",
              "      width: 32px;\n",
              "    }\n",
              "\n",
              "    .colab-df-convert:hover {\n",
              "      background-color: #E2EBFA;\n",
              "      box-shadow: 0px 1px 2px rgba(60, 64, 67, 0.3), 0px 1px 3px 1px rgba(60, 64, 67, 0.15);\n",
              "      fill: #174EA6;\n",
              "    }\n",
              "\n",
              "    .colab-df-buttons div {\n",
              "      margin-bottom: 4px;\n",
              "    }\n",
              "\n",
              "    [theme=dark] .colab-df-convert {\n",
              "      background-color: #3B4455;\n",
              "      fill: #D2E3FC;\n",
              "    }\n",
              "\n",
              "    [theme=dark] .colab-df-convert:hover {\n",
              "      background-color: #434B5C;\n",
              "      box-shadow: 0px 1px 3px 1px rgba(0, 0, 0, 0.15);\n",
              "      filter: drop-shadow(0px 1px 2px rgba(0, 0, 0, 0.3));\n",
              "      fill: #FFFFFF;\n",
              "    }\n",
              "  </style>\n",
              "\n",
              "    <script>\n",
              "      const buttonEl =\n",
              "        document.querySelector('#df-74c08993-f80e-4969-b7db-3505ddb8f6f3 button.colab-df-convert');\n",
              "      buttonEl.style.display =\n",
              "        google.colab.kernel.accessAllowed ? 'block' : 'none';\n",
              "\n",
              "      async function convertToInteractive(key) {\n",
              "        const element = document.querySelector('#df-74c08993-f80e-4969-b7db-3505ddb8f6f3');\n",
              "        const dataTable =\n",
              "          await google.colab.kernel.invokeFunction('convertToInteractive',\n",
              "                                                    [key], {});\n",
              "        if (!dataTable) return;\n",
              "\n",
              "        const docLinkHtml = 'Like what you see? Visit the ' +\n",
              "          '<a target=\"_blank\" href=https://colab.research.google.com/notebooks/data_table.ipynb>data table notebook</a>'\n",
              "          + ' to learn more about interactive tables.';\n",
              "        element.innerHTML = '';\n",
              "        dataTable['output_type'] = 'display_data';\n",
              "        await google.colab.output.renderOutput(dataTable, element);\n",
              "        const docLink = document.createElement('div');\n",
              "        docLink.innerHTML = docLinkHtml;\n",
              "        element.appendChild(docLink);\n",
              "      }\n",
              "    </script>\n",
              "  </div>\n",
              "\n",
              "\n",
              "<div id=\"df-e38be513-1089-4ab6-946d-414f4b43ff73\">\n",
              "  <button class=\"colab-df-quickchart\" onclick=\"quickchart('df-e38be513-1089-4ab6-946d-414f4b43ff73')\"\n",
              "            title=\"Suggest charts\"\n",
              "            style=\"display:none;\">\n",
              "\n",
              "<svg xmlns=\"http://www.w3.org/2000/svg\" height=\"24px\"viewBox=\"0 0 24 24\"\n",
              "     width=\"24px\">\n",
              "    <g>\n",
              "        <path d=\"M19 3H5c-1.1 0-2 .9-2 2v14c0 1.1.9 2 2 2h14c1.1 0 2-.9 2-2V5c0-1.1-.9-2-2-2zM9 17H7v-7h2v7zm4 0h-2V7h2v10zm4 0h-2v-4h2v4z\"/>\n",
              "    </g>\n",
              "</svg>\n",
              "  </button>\n",
              "\n",
              "<style>\n",
              "  .colab-df-quickchart {\n",
              "      --bg-color: #E8F0FE;\n",
              "      --fill-color: #1967D2;\n",
              "      --hover-bg-color: #E2EBFA;\n",
              "      --hover-fill-color: #174EA6;\n",
              "      --disabled-fill-color: #AAA;\n",
              "      --disabled-bg-color: #DDD;\n",
              "  }\n",
              "\n",
              "  [theme=dark] .colab-df-quickchart {\n",
              "      --bg-color: #3B4455;\n",
              "      --fill-color: #D2E3FC;\n",
              "      --hover-bg-color: #434B5C;\n",
              "      --hover-fill-color: #FFFFFF;\n",
              "      --disabled-bg-color: #3B4455;\n",
              "      --disabled-fill-color: #666;\n",
              "  }\n",
              "\n",
              "  .colab-df-quickchart {\n",
              "    background-color: var(--bg-color);\n",
              "    border: none;\n",
              "    border-radius: 50%;\n",
              "    cursor: pointer;\n",
              "    display: none;\n",
              "    fill: var(--fill-color);\n",
              "    height: 32px;\n",
              "    padding: 0;\n",
              "    width: 32px;\n",
              "  }\n",
              "\n",
              "  .colab-df-quickchart:hover {\n",
              "    background-color: var(--hover-bg-color);\n",
              "    box-shadow: 0 1px 2px rgba(60, 64, 67, 0.3), 0 1px 3px 1px rgba(60, 64, 67, 0.15);\n",
              "    fill: var(--button-hover-fill-color);\n",
              "  }\n",
              "\n",
              "  .colab-df-quickchart-complete:disabled,\n",
              "  .colab-df-quickchart-complete:disabled:hover {\n",
              "    background-color: var(--disabled-bg-color);\n",
              "    fill: var(--disabled-fill-color);\n",
              "    box-shadow: none;\n",
              "  }\n",
              "\n",
              "  .colab-df-spinner {\n",
              "    border: 2px solid var(--fill-color);\n",
              "    border-color: transparent;\n",
              "    border-bottom-color: var(--fill-color);\n",
              "    animation:\n",
              "      spin 1s steps(1) infinite;\n",
              "  }\n",
              "\n",
              "  @keyframes spin {\n",
              "    0% {\n",
              "      border-color: transparent;\n",
              "      border-bottom-color: var(--fill-color);\n",
              "      border-left-color: var(--fill-color);\n",
              "    }\n",
              "    20% {\n",
              "      border-color: transparent;\n",
              "      border-left-color: var(--fill-color);\n",
              "      border-top-color: var(--fill-color);\n",
              "    }\n",
              "    30% {\n",
              "      border-color: transparent;\n",
              "      border-left-color: var(--fill-color);\n",
              "      border-top-color: var(--fill-color);\n",
              "      border-right-color: var(--fill-color);\n",
              "    }\n",
              "    40% {\n",
              "      border-color: transparent;\n",
              "      border-right-color: var(--fill-color);\n",
              "      border-top-color: var(--fill-color);\n",
              "    }\n",
              "    60% {\n",
              "      border-color: transparent;\n",
              "      border-right-color: var(--fill-color);\n",
              "    }\n",
              "    80% {\n",
              "      border-color: transparent;\n",
              "      border-right-color: var(--fill-color);\n",
              "      border-bottom-color: var(--fill-color);\n",
              "    }\n",
              "    90% {\n",
              "      border-color: transparent;\n",
              "      border-bottom-color: var(--fill-color);\n",
              "    }\n",
              "  }\n",
              "</style>\n",
              "\n",
              "  <script>\n",
              "    async function quickchart(key) {\n",
              "      const quickchartButtonEl =\n",
              "        document.querySelector('#' + key + ' button');\n",
              "      quickchartButtonEl.disabled = true;  // To prevent multiple clicks.\n",
              "      quickchartButtonEl.classList.add('colab-df-spinner');\n",
              "      try {\n",
              "        const charts = await google.colab.kernel.invokeFunction(\n",
              "            'suggestCharts', [key], {});\n",
              "      } catch (error) {\n",
              "        console.error('Error during call to suggestCharts:', error);\n",
              "      }\n",
              "      quickchartButtonEl.classList.remove('colab-df-spinner');\n",
              "      quickchartButtonEl.classList.add('colab-df-quickchart-complete');\n",
              "    }\n",
              "    (() => {\n",
              "      let quickchartButtonEl =\n",
              "        document.querySelector('#df-e38be513-1089-4ab6-946d-414f4b43ff73 button');\n",
              "      quickchartButtonEl.style.display =\n",
              "        google.colab.kernel.accessAllowed ? 'block' : 'none';\n",
              "    })();\n",
              "  </script>\n",
              "</div>\n",
              "\n",
              "  <div id=\"id_2f1287cc-f4b9-422a-89c5-0f0fa64c25c2\">\n",
              "    <style>\n",
              "      .colab-df-generate {\n",
              "        background-color: #E8F0FE;\n",
              "        border: none;\n",
              "        border-radius: 50%;\n",
              "        cursor: pointer;\n",
              "        display: none;\n",
              "        fill: #1967D2;\n",
              "        height: 32px;\n",
              "        padding: 0 0 0 0;\n",
              "        width: 32px;\n",
              "      }\n",
              "\n",
              "      .colab-df-generate:hover {\n",
              "        background-color: #E2EBFA;\n",
              "        box-shadow: 0px 1px 2px rgba(60, 64, 67, 0.3), 0px 1px 3px 1px rgba(60, 64, 67, 0.15);\n",
              "        fill: #174EA6;\n",
              "      }\n",
              "\n",
              "      [theme=dark] .colab-df-generate {\n",
              "        background-color: #3B4455;\n",
              "        fill: #D2E3FC;\n",
              "      }\n",
              "\n",
              "      [theme=dark] .colab-df-generate:hover {\n",
              "        background-color: #434B5C;\n",
              "        box-shadow: 0px 1px 3px 1px rgba(0, 0, 0, 0.15);\n",
              "        filter: drop-shadow(0px 1px 2px rgba(0, 0, 0, 0.3));\n",
              "        fill: #FFFFFF;\n",
              "      }\n",
              "    </style>\n",
              "    <button class=\"colab-df-generate\" onclick=\"generateWithVariable('df')\"\n",
              "            title=\"Generate code using this dataframe.\"\n",
              "            style=\"display:none;\">\n",
              "\n",
              "  <svg xmlns=\"http://www.w3.org/2000/svg\" height=\"24px\"viewBox=\"0 0 24 24\"\n",
              "       width=\"24px\">\n",
              "    <path d=\"M7,19H8.4L18.45,9,17,7.55,7,17.6ZM5,21V16.75L18.45,3.32a2,2,0,0,1,2.83,0l1.4,1.43a1.91,1.91,0,0,1,.58,1.4,1.91,1.91,0,0,1-.58,1.4L9.25,21ZM18.45,9,17,7.55Zm-12,3A5.31,5.31,0,0,0,4.9,8.1,5.31,5.31,0,0,0,1,6.5,5.31,5.31,0,0,0,4.9,4.9,5.31,5.31,0,0,0,6.5,1,5.31,5.31,0,0,0,8.1,4.9,5.31,5.31,0,0,0,12,6.5,5.46,5.46,0,0,0,6.5,12Z\"/>\n",
              "  </svg>\n",
              "    </button>\n",
              "    <script>\n",
              "      (() => {\n",
              "      const buttonEl =\n",
              "        document.querySelector('#id_2f1287cc-f4b9-422a-89c5-0f0fa64c25c2 button.colab-df-generate');\n",
              "      buttonEl.style.display =\n",
              "        google.colab.kernel.accessAllowed ? 'block' : 'none';\n",
              "\n",
              "      buttonEl.onclick = () => {\n",
              "        google.colab.notebook.generateWithVariable('df');\n",
              "      }\n",
              "      })();\n",
              "    </script>\n",
              "  </div>\n",
              "\n",
              "    </div>\n",
              "  </div>\n"
            ],
            "text/plain": [
              "                                                       en  \\\n",
              "5744                                        dont say that   \n",
              "41815                            my aunt gave me a camera   \n",
              "116057  compare the two carefully and you will see the...   \n",
              "84561                  pass me the salt and pepper please   \n",
              "78355                   she fled for fear of being caught   \n",
              "...                                                   ...   \n",
              "113144  tom asked mary how many people had come to her...   \n",
              "104469       tom abandoned the idea of buying a new truck   \n",
              "44269                            dont you want to kiss me   \n",
              "77136                    i cant see who tom is talking to   \n",
              "45454                           i was a little bit scared   \n",
              "\n",
              "                                                       sp  \n",
              "5744                                         no digas eso  \n",
              "41815                         mi tia me regalo una camara  \n",
              "116057    compara ambos atentamente y veras la diferencia  \n",
              "84561              pasadme la sal y la pimienta por favor  \n",
              "78355               ella huyo por miedo a que la cogieran  \n",
              "...                                                   ...  \n",
              "113144  tom le pregunto a mary cuantas personas habian...  \n",
              "104469    tom abandono la idea de comprar un nuevo camion  \n",
              "44269                                   no queres besarme  \n",
              "77136                    no puedo ver con quien habla tom  \n",
              "45454                             estuve un poco asustado  \n",
              "\n",
              "[40000 rows x 2 columns]"
            ]
          },
          "execution_count": 23,
          "metadata": {},
          "output_type": "execute_result"
        }
      ],
      "source": [
        "# Take a random sample of 40,000 entries\n",
        "df = df.sample(n=40000, random_state=69)\n",
        "df"
      ]
    },
    {
      "cell_type": "code",
      "execution_count": null,
      "metadata": {
        "id": "Snc4Wf-tKoJ4"
      },
      "outputs": [],
      "source": [
        "df['en'] = df['en'].str.lower()\n",
        "df['sp'] = df['sp'].str.lower()"
      ]
    },
    {
      "cell_type": "code",
      "execution_count": null,
      "metadata": {
        "id": "rZ8rerBlKn_Q"
      },
      "outputs": [],
      "source": [
        "en_text = df['en'].values\n",
        "sp_text = df['sp'].values"
      ]
    },
    {
      "cell_type": "code",
      "execution_count": null,
      "metadata": {
        "id": "ZA8sAbonKn8x"
      },
      "outputs": [],
      "source": [
        "for i in range(en_text.shape[0]):\n",
        "    en_text[i] = \"sos \" + str(en_text[i]) + \" eos\"\n",
        "    sp_text[i] = \"sos \" + str(sp_text[i]) + \" eos\""
      ]
    },
    {
      "cell_type": "code",
      "execution_count": null,
      "metadata": {
        "id": "P17NKDRpKn6Z"
      },
      "outputs": [],
      "source": [
        "num_words = 10000\n",
        "tokenizer_en = Tokenizer(num_words = num_words , filters = ' !\"#$%&()*+,-./:;<=>?@[\\\\]^_`{|}~')\n",
        "tokenizer_en.fit_on_texts(en_text)\n",
        "en_sentences = tokenizer_en.texts_to_sequences(en_text)"
      ]
    },
    {
      "cell_type": "code",
      "execution_count": null,
      "metadata": {
        "colab": {
          "base_uri": "https://localhost:8080/"
        },
        "id": "-K8Zxj5XLCrp",
        "outputId": "502cd4d6-f544-4ec4-85c6-1142968d31d7"
      },
      "outputs": [
        {
          "name": "stdout",
          "output_type": "stream",
          "text": [
            " Number of words in english is: 9012 \n"
          ]
        }
      ],
      "source": [
        "word_index_en = tokenizer_en.word_index\n",
        "print( f\" Number of words in english is: {len(word_index_en)} \")"
      ]
    },
    {
      "cell_type": "code",
      "execution_count": null,
      "metadata": {
        "id": "bWy5ACrcLCpR"
      },
      "outputs": [],
      "source": [
        "tokenizer_sp = Tokenizer(num_words = num_words , filters = ' !\"#$%&()*+,-./:;<=>?@[\\\\]^_`{|}~')\n",
        "tokenizer_sp.fit_on_texts(sp_text)\n",
        "sp_sentences = tokenizer_sp.texts_to_sequences(sp_text)"
      ]
    },
    {
      "cell_type": "code",
      "execution_count": null,
      "metadata": {
        "colab": {
          "base_uri": "https://localhost:8080/"
        },
        "id": "4zbBiPaCLCm4",
        "outputId": "a6c6e91e-10ef-424d-c70f-1e5a37d4fb36"
      },
      "outputs": [
        {
          "name": "stdout",
          "output_type": "stream",
          "text": [
            " Number of words in spanish is: 15329 \n"
          ]
        }
      ],
      "source": [
        "word_index_sp = tokenizer_sp.word_index\n",
        "print( f\" Number of words in spanish is: {len(word_index_sp)} \")"
      ]
    },
    {
      "cell_type": "code",
      "execution_count": null,
      "metadata": {
        "colab": {
          "base_uri": "https://localhost:8080/",
          "height": 564
        },
        "id": "0M95VnexLCkw",
        "outputId": "16ed2778-3919-4a8d-d059-92d97d034218"
      },
      "outputs": [
        {
          "data": {
            "image/png": "[encoded data removed]",
            "text/plain": [
              "<Figure size 1000x600 with 1 Axes>"
            ]
          },
          "metadata": {},
          "output_type": "display_data"
        }
      ],
      "source": [
        "# Calculate the length of each sequence\n",
        "en_lengths = [len(seq) for seq in en_sentences]\n",
        "sp_lengths = [len(seq) for seq in sp_sentences]\n",
        "\n",
        "# Plot the histogram\n",
        "plt.figure(figsize=(10, 6))\n",
        "sns.histplot(en_lengths, bins=range(1, max(en_lengths)+2), color='blue', kde=False, label='English', discrete=True)\n",
        "sns.histplot(sp_lengths, bins=range(1, max(sp_lengths)+2), color='red', kde=False, label='Spanish', discrete=True)\n",
        "plt.xlabel('Number of Words')\n",
        "plt.ylabel('Frequency')\n",
        "plt.title('Number of Words in English and Spanish Sentences')\n",
        "plt.legend()\n",
        "plt.show()"
      ]
    },
    {
      "cell_type": "code",
      "execution_count": null,
      "metadata": {
        "colab": {
          "base_uri": "https://localhost:8080/"
        },
        "id": "jOy3B7HeLCio",
        "outputId": "2cab2242-b2d8-47ca-db0b-8d7e08f67e22"
      },
      "outputs": [
        {
          "name": "stdout",
          "output_type": "stream",
          "text": [
            "45\n"
          ]
        }
      ],
      "source": [
        "maxlen_en = max(len(seq) for seq in en_sentences)\n",
        "maxlen_sp = max(len(seq) for seq in sp_sentences)\n",
        "maxlen = max(maxlen_en, maxlen_sp)\n",
        "print(maxlen)"
      ]
    },
    {
      "cell_type": "code",
      "execution_count": null,
      "metadata": {
        "id": "GUjOx4KgLCgQ"
      },
      "outputs": [],
      "source": [
        "en_sentences = pad_sequences(en_sentences , maxlen = 25, padding = 'post' , truncating='post')\n",
        "sp_sentences = pad_sequences(sp_sentences , maxlen = 25, padding = 'post' , truncating='post')"
      ]
    },
    {
      "cell_type": "code",
      "execution_count": null,
      "metadata": {
        "id": "Pv9b9NS5LCd5"
      },
      "outputs": [],
      "source": [
        "def get_angles(pos , i , embedding_dim):\n",
        "    '''\n",
        "    Function to comput the angles for positional encoding\n",
        "\n",
        "    Returns the angle computed\n",
        "    '''\n",
        "    angle_rates = 1/ np.power(10000 , (2*(i//2)) / np.float32(embedding_dim))\n",
        "\n",
        "    return pos * angle_rates"
      ]
    },
    {
      "cell_type": "code",
      "execution_count": null,
      "metadata": {
        "id": "4gtp0Fk_LCbh"
      },
      "outputs": [],
      "source": [
        "def positional_encoding(pos , embedding_dim):\n",
        "    '''\n",
        "    Adds positional encoding to the embeddings to be fed to the Transformer model.\n",
        "\n",
        "    Computes sin and cos of the angles determined by the get_angles()\n",
        "    and adds the value to an axis of embeddings\n",
        "\n",
        "    '''\n",
        "    angle_radians = get_angles(np.arange(pos)[:, np.newaxis],\n",
        "                              np.arange(embedding_dim)[np.newaxis, :] ,\n",
        "                              embedding_dim)\n",
        "\n",
        "    angle_radians[: , 0::2] = np.sin( angle_radians[: , 0::2])\n",
        "\n",
        "    angle_radians[: , 1::2] = np.cos(angle_radians[: , 1::2])\n",
        "\n",
        "    pos_encoding = angle_radians[np.newaxis, ...]\n",
        "    return tf.cast(pos_encoding , dtype = tf.float32)"
      ]
    },
    {
      "cell_type": "code",
      "execution_count": null,
      "metadata": {
        "colab": {
          "base_uri": "https://localhost:8080/",
          "height": 577
        },
        "id": "wc6-vC2SLCZB",
        "outputId": "4b9932d0-cd7d-4564-f9f8-57e76c91b808"
      },
      "outputs": [
        {
          "data": {
            "image/png": "[encoded data removed]",
            "text/plain": [
              "<Figure size 1000x600 with 2 Axes>"
            ]
          },
          "metadata": {},
          "output_type": "display_data"
        }
      ],
      "source": [
        "pos_encoding = positional_encoding(200,256)\n",
        "\n",
        "plt.figure(figsize=(14,8))\n",
        "sns.heatmap(pos_encoding[0] , cmap='viridis')\n",
        "plt.xlabel(\"Embedding Dimension\")\n",
        "plt.ylabel(\"Position in Sequence\")\n",
        "plt.title('Positional Encodings')\n",
        "plt.show()"
      ]
    },
    {
      "cell_type": "code",
      "execution_count": null,
      "metadata": {
        "id": "uQy-0BzBLCWo"
      },
      "outputs": [],
      "source": [
        "def create_look_ahead_mask(size):\n",
        "    mask = 1 - tf.linalg.band_part(tf.ones((size , size)) , -1 , 0)\n",
        "    return mask\n",
        "\n",
        "def create_padding_mask(seq):\n",
        "    seq = tf.cast(tf.math.equal(seq,0) , tf.float32)\n",
        "\n",
        "    return seq[:, tf.newaxis , tf.newaxis, : ]"
      ]
    },
    {
      "cell_type": "code",
      "execution_count": null,
      "metadata": {
        "id": "RPUYmx0cLCUI"
      },
      "outputs": [],
      "source": [
        "def create_masks(input , target):\n",
        "    enc_pad_mask = create_padding_mask(input)\n",
        "    dec_pad_mask = create_padding_mask(input)\n",
        "    look_ahead_mask = create_look_ahead_mask(tf.shape(target)[1])\n",
        "    dec_target_pad_mask = create_padding_mask(target)\n",
        "    combine_mask = tf.maximum(dec_target_pad_mask , look_ahead_mask)\n",
        "\n",
        "    return enc_pad_mask , combine_mask , dec_pad_mask"
      ]
    },
    {
      "cell_type": "code",
      "execution_count": null,
      "metadata": {
        "id": "4-B9VzZdLCRw"
      },
      "outputs": [],
      "source": [
        "def scaled_dot_product(q, k, v, mask):\n",
        "    matrix_mul_q_k = tf.matmul(q,k,transpose_b= True)\n",
        "\n",
        "    dk = tf.cast(tf.shape(k)[-1], dtype = tf.float32)\n",
        "\n",
        "    scaled_dk = tf.math.sqrt(dk)\n",
        "    scaled_attention_logits = matrix_mul_q_k/scaled_dk\n",
        "\n",
        "    if mask is not None:\n",
        "        scaled_attention_logits += (mask * -1e9)\n",
        "\n",
        "    attention_weights = tf.nn.softmax(scaled_attention_logits , axis = -1)\n",
        "    output = tf.matmul(attention_weights, v)\n",
        "\n",
        "    return output , attention_weights"
      ]
    },
    {
      "cell_type": "code",
      "execution_count": null,
      "metadata": {
        "id": "YrPivgTLLCPR"
      },
      "outputs": [],
      "source": [
        "class MultiHeadAttention(tf.keras.layers.Layer):\n",
        "\n",
        "    def __init__(self, key_dim, num_heads, dropout_rate = 0.0):\n",
        "        '''\n",
        "        Multi head attention layer\n",
        "\n",
        "        Args :\n",
        "        key_dim : The dimension of the key vectors.\n",
        "        num_heads : The number of attention heads\n",
        "        drouout_rates\n",
        "        '''\n",
        "\n",
        "        super(MultiHeadAttention, self).__init__()\n",
        "        self.num_heads = num_heads\n",
        "        self.key_dim = key_dim\n",
        "\n",
        "        assert key_dim % num_heads == 0\n",
        "        self.depth = self.key_dim // self.num_heads\n",
        "\n",
        "        self.wq = Dense(key_dim)\n",
        "        self.wk = Dense(key_dim)\n",
        "        self.wv = Dense(key_dim)\n",
        "\n",
        "        self.dropout = Dropout(dropout_rate)\n",
        "        self.dense = Dense(key_dim)\n",
        "\n",
        "    def split_heads(self, x, batch_size):\n",
        "        x = tf.reshape(x, (batch_size, -1, self.num_heads, self.depth))\n",
        "        return tf.transpose(x, perm =[0,2,1,3])\n",
        "\n",
        "    def call(self , v, k, q, mask = None):\n",
        "        '''\n",
        "        Forward pass through multi head attention layer\n",
        "\n",
        "        Return:\n",
        "        tf.Tensor: the ouitput tensor\n",
        "        tf.Tensor: the attention weights\n",
        "        '''\n",
        "        batch_size = tf.shape(q)[0]\n",
        "\n",
        "        q = self.wq(q)\n",
        "        k = self.wk(k)\n",
        "        v = self.wv(v)\n",
        "\n",
        "        q = self.split_heads(q, batch_size)\n",
        "        k = self.split_heads(k, batch_size)\n",
        "        v = self.split_heads(v, batch_size)\n",
        "\n",
        "        scaled_attention, attention_weights = scaled_dot_product(q, k, v, mask)\n",
        "        scaled_attention = tf.transpose(scaled_attention, perm =[0,2,1,3])\n",
        "\n",
        "        concat_attention = tf.reshape(scaled_attention, (batch_size, -1, self.key_dim))\n",
        "        output = self.dense(concat_attention)\n",
        "        output = self.dropout(output)\n",
        "\n",
        "        return output, attention_weights"
      ]
    },
    {
      "cell_type": "code",
      "execution_count": null,
      "metadata": {
        "id": "qUidTGHBLCMw"
      },
      "outputs": [],
      "source": [
        "def FeedForward(embedding_dim, fully_connected_dim):\n",
        "    model = tf.keras.Sequential([\n",
        "        tf.keras.layers.Dense(fully_connected_dim, activation='relu'),\n",
        "        tf.keras.layers.Dense(embedding_dim)\n",
        "    ])\n",
        "\n",
        "    return model"
      ]
    },
    {
      "cell_type": "code",
      "execution_count": null,
      "metadata": {
        "id": "4Agp5jhZKn3w"
      },
      "outputs": [],
      "source": [
        "class EncoderLayer(tf.keras.layers.Layer):\n",
        "    def __init__(self, embedding_dim, num_heads, fully_connected_dim, dropout_rate = 0.1):\n",
        "        super(EncoderLayer, self).__init__()\n",
        "\n",
        "        self.mha = MultiHeadAttention(embedding_dim, num_heads, dropout_rate)\n",
        "\n",
        "        self.layernorm1 = LayerNormalization(epsilon = 1e-6)\n",
        "        self.layernorm2 = LayerNormalization(epsilon = 1e-6)\n",
        "\n",
        "        self.dropout = Dropout(dropout_rate)\n",
        "\n",
        "        self.ffn = FeedForward(embedding_dim , fully_connected_dim)\n",
        "\n",
        "\n",
        "    def call(self, x, training, mask):\n",
        "        '''\n",
        "        Forward pass throught the encoder layer\n",
        "\n",
        "        Returns:\n",
        "         tf. Tensor: The output tensor after passing through the encoder layer.\n",
        "        '''\n",
        "\n",
        "        att_output , _ = self.mha(x, x, x, mask)\n",
        "\n",
        "        out1 = self.layernorm1(att_output + x)\n",
        "\n",
        "        ffn_output = self.ffn(out1)\n",
        "        ffn_output = self.dropout(ffn_output, training = training)\n",
        "\n",
        "        output = self.layernorm2(ffn_output + out1)\n",
        "\n",
        "        return output\n"
      ]
    },
    {
      "cell_type": "code",
      "execution_count": null,
      "metadata": {
        "id": "rqjbvfjFKn1Z"
      },
      "outputs": [],
      "source": [
        "class Encoder( tf.keras.layers.Layer):\n",
        "    def __init__(self,\n",
        "                 num_layers,\n",
        "                 embedding_dim,\n",
        "                 num_heads,\n",
        "                 fully_connected_dim,\n",
        "                 input_vocab_size,\n",
        "                 maximum_position_encoding,\n",
        "                 dropout_rates = 0.1):\n",
        "        super(Encoder, self).__init__()\n",
        "\n",
        "        self.num_layers = num_layers\n",
        "        self.embedding_dim = embedding_dim\n",
        "\n",
        "        self.embedding = Embedding(input_vocab_size, embedding_dim)\n",
        "\n",
        "        self.pos_encoding = positional_encoding(maximum_position_encoding, embedding_dim)\n",
        "\n",
        "        self.enc_layers = [EncoderLayer(embedding_dim, num_heads, fully_connected_dim, dropout_rates) for _ in range(num_layers)]\n",
        "\n",
        "        self.dropout = Dropout(dropout_rates)\n",
        "\n",
        "    def call(self, inputs, training, mask):\n",
        "        '''\n",
        "        Forward pass through encoder\n",
        "\n",
        "        Return:\n",
        "        tf.tensor: The encoded sequence tensor.\n",
        "\n",
        "        '''\n",
        "\n",
        "        seq_len = tf.shape(inputs)[1]\n",
        "\n",
        "        inputs = self.embedding(inputs)\n",
        "\n",
        "        inputs *= tf.math.sqrt(tf.cast(self.embedding_dim , tf.float32))\n",
        "\n",
        "        inputs +=self.pos_encoding[:, :seq_len, :]\n",
        "\n",
        "        inputs = self.dropout(inputs, training = training)\n",
        "\n",
        "        for i in range(self.num_layers):\n",
        "            inputs = self.enc_layers[i](inputs, training = training , mask = mask)\n",
        "\n",
        "        return inputs"
      ]
    },
    {
      "cell_type": "code",
      "execution_count": null,
      "metadata": {
        "id": "ELewscPQKny4"
      },
      "outputs": [],
      "source": [
        "class DecoderLayer(tf.keras.layers.Layer):\n",
        "    def __init__(self, embedding_dim, num_heads, fully_connected_dim, dropout_rate = 0.1):\n",
        "\n",
        "        super(DecoderLayer, self).__init__()\n",
        "\n",
        "        self.mha1 = MultiHeadAttention(embedding_dim, num_heads, dropout_rate)\n",
        "        self.mha2 = MultiHeadAttention(embedding_dim, num_heads, dropout_rate)\n",
        "\n",
        "        self.ffn = FeedForward(embedding_dim , fully_connected_dim)\n",
        "\n",
        "        self.layernorm1 = LayerNormalization(epsilon = 1e-6)\n",
        "        self.layernorm2 = LayerNormalization(epsilon = 1e-6)\n",
        "        self.layernorm3 = LayerNormalization(epsilon = 1e-6)\n",
        "\n",
        "\n",
        "        self.dropout3 = Dropout(dropout_rate)\n",
        "\n",
        "    def call(self, x, enc_output, training, look_ahead_mask, padding_mask):\n",
        "        '''\n",
        "        Forward pass throught the decoder layer\n",
        "\n",
        "        Returns:\n",
        "         tf. Tensor: The output tensor after passing through the decoder layer.\n",
        "        '''\n",
        "\n",
        "        attn1 , attn_weights1  = self.mha1(x, x, x, look_ahead_mask)\n",
        "\n",
        "        out1 = self.layernorm1(attn1 + x)\n",
        "\n",
        "        attn2 , attn_weights2  = self.mha2(enc_output, enc_output, out1, padding_mask)\n",
        "\n",
        "        out2 = self.layernorm2(attn2 + out1)\n",
        "\n",
        "\n",
        "        ffn_output = self.ffn(out2)\n",
        "        ffn_output = self.dropout3(ffn_output, training = training)\n",
        "\n",
        "        output = self.layernorm3(ffn_output + out2)\n",
        "\n",
        "        return output, attn_weights1, attn_weights2"
      ]
    },
    {
      "cell_type": "code",
      "execution_count": null,
      "metadata": {
        "id": "5yiSnzWTLaoR"
      },
      "outputs": [],
      "source": [
        "class Decoder( tf.keras.layers.Layer):\n",
        "    def __init__(self,\n",
        "                 num_layers,\n",
        "                 embedding_dim,\n",
        "                 num_heads,\n",
        "                 fully_connected_dim,\n",
        "                 target_vocab_size,\n",
        "                 maximum_position_encoding,\n",
        "                 dropout_rates = 0.1):\n",
        "        super(Decoder, self).__init__()\n",
        "\n",
        "        self.num_layers = num_layers\n",
        "        self.embedding_dim = embedding_dim\n",
        "\n",
        "        self.embedding = Embedding(target_vocab_size, embedding_dim)\n",
        "        self.pos_encoding = positional_encoding(maximum_position_encoding, embedding_dim)\n",
        "        self.dec_layers = [DecoderLayer(embedding_dim, num_heads, fully_connected_dim, dropout_rates) for _ in range(num_layers)]\n",
        "        self.dropout = Dropout(dropout_rates)\n",
        "\n",
        "\n",
        "    def call(self, x, enc_output, training, look_ahead_mask, padding_mask):\n",
        "        '''\n",
        "        Forward pass through Decoder\n",
        "\n",
        "        Return:\n",
        "        tf.tensor: The decoded sequence tensor.\n",
        "        dict: Dictionary containing attention weights for each decoder layer\n",
        "        '''\n",
        "\n",
        "        seq_len = tf.shape(x)[1]\n",
        "        attention_weights = {}\n",
        "\n",
        "        x = self.embedding(x)\n",
        "\n",
        "        x *= tf.math.sqrt(tf.cast(self.embedding_dim , tf.float32))\n",
        "\n",
        "        x +=self.pos_encoding[:, :seq_len, :]\n",
        "\n",
        "        x = self.dropout(x, training = training)\n",
        "\n",
        "        for i in range(self.num_layers):\n",
        "            x, block1, block2 = self.dec_layers[i](x, enc_output, training = training , look_ahead_mask = look_ahead_mask, padding_mask = padding_mask)\n",
        "\n",
        "            attention_weights[f\"decoder_layer{i + 1}_ block1\"] = block1\n",
        "            attention_weights[f\"decoder_layer{i + 1}_ block2\"] = block2\n",
        "\n",
        "\n",
        "        return x, attention_weights"
      ]
    },
    {
      "cell_type": "code",
      "execution_count": null,
      "metadata": {
        "id": "DJEFMcpYLalY"
      },
      "outputs": [],
      "source": [
        "class Transformer(tf.keras.Model):\n",
        "    def __init__(self, num_layers, embedding_dim,\n",
        "                 num_heads, fully_connected_dim,\n",
        "                 input_vocab_size, target_vocab_size,\n",
        "                 max_positional_encoding_input,\n",
        "                 max_positional_encoding_target,\n",
        "                 dropout_rate=0.1):\n",
        "        super(Transformer, self).__init__()\n",
        "\n",
        "        self.encoder = Encoder(num_layers, embedding_dim, num_heads, fully_connected_dim, input_vocab_size,\n",
        "                               max_positional_encoding_input, dropout_rate)\n",
        "        self.decoder = Decoder(num_layers, embedding_dim, num_heads, fully_connected_dim, target_vocab_size,\n",
        "                               max_positional_encoding_target, dropout_rate)\n",
        "\n",
        "        self.final_layer = tf.keras.layers.Dense(target_vocab_size, activation='softmax')\n",
        "\n",
        "    def call(self, inp, tar, training=None, enc_padding_mask=None, look_ahead_mask=None, dec_padding_mask=None):\n",
        "        '''\n",
        "        Forward pass through the transformer\n",
        "\n",
        "        Returns:\n",
        "        tf.Tensor: The final prediction tensor\n",
        "        dict: Dictionary containing attention weights from the decoder\n",
        "        '''\n",
        "\n",
        "        enc_output = self.encoder(inp, training=training, mask=enc_padding_mask)\n",
        "\n",
        "        dec_output, attention_weights = self.decoder(tar, enc_output, training=training, look_ahead_mask=look_ahead_mask, padding_mask=dec_padding_mask)\n",
        "\n",
        "\n",
        "        final_output = self.final_layer(dec_output)\n",
        "\n",
        "        return final_output, attention_weights"
      ]
    },
    {
      "cell_type": "code",
      "execution_count": null,
      "metadata": {
        "id": "UjOVnERMLaio"
      },
      "outputs": [],
      "source": [
        "embedding_dim = 256\n",
        "fully_connected_dim = 512\n",
        "num_layers = 4\n",
        "num_heads = 8\n",
        "dropout_rates = 0.1\n",
        "\n",
        "input_vocab_size = len(tokenizer_sp.word_index) + 2\n",
        "target_vocab_size = len(tokenizer_en.word_index) + 2\n",
        "\n",
        "max_positional_encoding_input = input_vocab_size\n",
        "max_positional_encoding_target = target_vocab_size\n",
        "\n",
        "EPOCHS = 50\n",
        "batch_size = 256"
      ]
    },
    {
      "cell_type": "code",
      "execution_count": null,
      "metadata": {
        "id": "Dz64D15iLagI"
      },
      "outputs": [],
      "source": [
        "class CustomSchedule(tf.keras.optimizers.schedules.LearningRateSchedule):\n",
        "    def __init__(self, embedding_dim, warmup_steps = 4000):\n",
        "        super(CustomSchedule, self).__init__()\n",
        "        self.embedding_dim = tf.cast(embedding_dim, dtype = tf.float32)\n",
        "        self.warmup_steps = tf.cast(warmup_steps, dtype = tf.float32)\n",
        "    def __call__(self, step):\n",
        "        step = tf.cast(step, dtype= tf.float32)\n",
        "        arg1 = tf.math.sqrt(step)\n",
        "        arg2 = step * (self.warmup_steps ** -1.5)\n",
        "        return tf.math.rsqrt(self.embedding_dim) * tf.math.minimum(arg1, arg2)\n",
        "\n",
        "learning_rate = CustomSchedule(embedding_dim)"
      ]
    },
    {
      "cell_type": "code",
      "execution_count": null,
      "metadata": {
        "id": "WoBlacR3Ladw"
      },
      "outputs": [],
      "source": [
        "transformer = Transformer(num_layers, embedding_dim,\n",
        "                          num_heads, fully_connected_dim,\n",
        "                          input_vocab_size, target_vocab_size,\n",
        "                          max_positional_encoding_input, max_positional_encoding_target,\n",
        "                          dropout_rates)"
      ]
    },
    {
      "cell_type": "code",
      "execution_count": null,
      "metadata": {
        "id": "WO9BmW9WLabg"
      },
      "outputs": [],
      "source": [
        "optimizer = tf.keras.optimizers.Adam(learning_rate, beta_1 = 0.9,beta_2 = 0.98, epsilon= 1e-9 )\n",
        "\n",
        "loss_object = tf.keras.losses.SparseCategoricalCrossentropy()"
      ]
    },
    {
      "cell_type": "code",
      "execution_count": null,
      "metadata": {
        "colab": {
          "background_save": true
        },
        "id": "evGT951JLaZA"
      },
      "outputs": [],
      "source": [
        "def loss_function(true_vals , predictions):\n",
        "    mask = tf.math.logical_not(tf.math.equal(true_vals, 0))\n",
        "\n",
        "    loss_ = loss_object(true_vals, predictions)\n",
        "\n",
        "    mask= tf.cast(mask, dtype=loss_.dtype)\n",
        "    loss_ *= mask\n",
        "\n",
        "    return tf.reduce_sum(loss_) / tf.reduce_sum(mask)\n",
        "\n",
        "def accuracy_function(true_vals, predictions):\n",
        "    accuracies  = tf.equal(true_vals, tf.argmax(predictions, axis = 2))\n",
        "\n",
        "    mask = tf.math.logical_not(tf.math.equal(true_vals, 0))\n",
        "\n",
        "    accuracies = tf.math.logical_and(mask, accuracies)\n",
        "    accuracies = tf.cast(accuracies, dtype = tf.float32)\n",
        "    mask = tf.cast(mask, dtype = tf.float32)\n",
        "\n",
        "    return tf.reduce_sum(accuracies) / tf.reduce_sum(mask)\n",
        "\n",
        "train_loss = tf.keras.metrics.Mean(name = 'train_loss')\n",
        "train_accuracy = tf.keras.metrics.SparseCategoricalAccuracy(name = 'train_accuracy')"
      ]
    },
    {
      "cell_type": "code",
      "execution_count": null,
      "metadata": {
        "id": "ICoQDLMqLaWg"
      },
      "outputs": [],
      "source": [
        "@tf.function()\n",
        "def train_step(encoder_input, target):\n",
        "    decoder_input = target[:, :-1]\n",
        "\n",
        "    expected_output = target[:, 1:]\n",
        "\n",
        "    enc_padding_mask , combined_mask, dec_padding_mask = create_masks(encoder_input, decoder_input)\n",
        "\n",
        "    with tf.GradientTape() as tape:\n",
        "        predictions, _ = transformer(encoder_input, decoder_input, training=True,\n",
        "                                     enc_padding_mask=enc_padding_mask, look_ahead_mask=combined_mask, dec_padding_mask=dec_padding_mask)\n",
        "\n",
        "        loss = loss_function(expected_output, predictions)\n",
        "\n",
        "    gradients = tape.gradient(loss, transformer.trainable_variables)\n",
        "    optimizer.apply_gradients(zip(gradients, transformer.trainable_variables))\n",
        "\n",
        "    train_loss(loss)\n",
        "    train_accuracy(expected_output, predictions)\n"
      ]
    },
    {
      "cell_type": "code",
      "execution_count": null,
      "metadata": {
        "colab": {
          "background_save": true,
          "base_uri": "https://localhost:8080/"
        },
        "id": "c26Ped9HLaTx",
        "outputId": "22e187ec-a349-4947-f4eb-ee81fd1367e2"
      },
      "outputs": [
        {
          "name": "stdout",
          "output_type": "stream",
          "text": [
            "Epoch: 0, Loss: nan , Accuracy: 0.6204 \n",
            "Epoch: 1, Loss: nan , Accuracy: 0.7111 \n",
            "Epoch: 2, Loss: nan , Accuracy: 0.7111 \n",
            "Epoch: 3, Loss: nan , Accuracy: 0.7111 \n",
            "Epoch: 4, Loss: nan , Accuracy: 0.7111 \n",
            "Epoch: 5, Loss: nan , Accuracy: 0.7111 \n",
            "Epoch: 6, Loss: nan , Accuracy: 0.7111 \n",
            "Epoch: 7, Loss: nan , Accuracy: 0.7111 \n",
            "Epoch: 8, Loss: nan , Accuracy: 0.7111 \n",
            "Epoch: 9, Loss: nan , Accuracy: 0.7111 \n",
            "Epoch: 10, Loss: nan , Accuracy: 0.7111 \n",
            "Epoch: 11, Loss: nan , Accuracy: 0.7111 \n",
            "Epoch: 12, Loss: nan , Accuracy: 0.7111 \n",
            "Epoch: 13, Loss: nan , Accuracy: 0.7111 \n",
            "Epoch: 14, Loss: nan , Accuracy: 0.7111 \n",
            "Epoch: 15, Loss: nan , Accuracy: 0.7111 \n",
            "Epoch: 16, Loss: nan , Accuracy: 0.7111 \n",
            "Epoch: 17, Loss: nan , Accuracy: 0.7111 \n",
            "Epoch: 18, Loss: nan , Accuracy: 0.7111 \n",
            "Epoch: 19, Loss: nan , Accuracy: 0.7111 \n",
            "Epoch: 20, Loss: nan , Accuracy: 0.7111 \n",
            "Epoch: 21, Loss: nan , Accuracy: 0.7111 \n",
            "Epoch: 22, Loss: nan , Accuracy: 0.7111 \n",
            "Epoch: 23, Loss: nan , Accuracy: 0.7111 \n",
            "Epoch: 24, Loss: nan , Accuracy: 0.7111 \n",
            "Epoch: 25, Loss: nan , Accuracy: 0.7111 \n",
            "Epoch: 26, Loss: nan , Accuracy: 0.7111 \n",
            "Epoch: 27, Loss: nan , Accuracy: 0.7111 \n",
            "Epoch: 28, Loss: nan , Accuracy: 0.7111 \n",
            "Epoch: 29, Loss: nan , Accuracy: 0.7111 \n",
            "Epoch: 30, Loss: nan , Accuracy: 0.7111 \n",
            "Epoch: 31, Loss: nan , Accuracy: 0.7111 \n",
            "Epoch: 32, Loss: nan , Accuracy: 0.7111 \n",
            "Epoch: 33, Loss: nan , Accuracy: 0.7111 \n",
            "Epoch: 34, Loss: nan , Accuracy: 0.7111 \n",
            "Epoch: 35, Loss: nan , Accuracy: 0.7111 \n",
            "Epoch: 36, Loss: nan , Accuracy: 0.7111 \n",
            "Epoch: 37, Loss: nan , Accuracy: 0.7111 \n",
            "Epoch: 38, Loss: nan , Accuracy: 0.7111 \n",
            "Epoch: 39, Loss: nan , Accuracy: 0.7111 \n",
            "Epoch: 40, Loss: nan , Accuracy: 0.7111 \n",
            "Epoch: 41, Loss: nan , Accuracy: 0.7111 \n",
            "Epoch: 42, Loss: nan , Accuracy: 0.7111 \n",
            "Epoch: 43, Loss: nan , Accuracy: 0.7111 \n",
            "Epoch: 44, Loss: nan , Accuracy: 0.7111 \n",
            "Epoch: 45, Loss: nan , Accuracy: 0.7111 \n",
            "Epoch: 46, Loss: nan , Accuracy: 0.7111 \n",
            "Epoch: 47, Loss: nan , Accuracy: 0.7111 \n",
            "Epoch: 48, Loss: nan , Accuracy: 0.7111 \n",
            "Epoch: 49, Loss: nan , Accuracy: 0.7111 \n",
            "Epoch: 50, Loss: nan , Accuracy: 0.7111 \n"
          ]
        }
      ],
      "source": [
        "for epoch in range(0 , EPOCHS+1):\n",
        "\n",
        "    train_loss.reset_state()\n",
        "    train_accuracy.reset_state()\n",
        "    current_batch_index = 0\n",
        "\n",
        "\n",
        "    for i in range(int(len(en_sentences) / batch_size )):\n",
        "        input_batch = tf.convert_to_tensor(np.array(en_sentences[current_batch_index:current_batch_index + batch_size]),\n",
        "                                           dtype = tf.int64)\n",
        "        target_batch = tf.convert_to_tensor(np.array(sp_sentences[current_batch_index:current_batch_index + batch_size]),\n",
        "                                           dtype = tf.int64)\n",
        "\n",
        "        current_batch_index += batch_size\n",
        "\n",
        "        train_step(input_batch, target_batch)\n",
        "\n",
        "    print(f\"Epoch: {epoch}, Loss: {train_loss.result():.4f} , Accuracy: {train_accuracy.result():.4f} \")"
      ]
    },
    {
      "cell_type": "code",
      "execution_count": null,
      "metadata": {
        "colab": {
          "background_save": true
        },
        "id": "msGC_LZWKnmI"
      },
      "outputs": [],
      "source": [
        "transformer.save_weights('transformer_weights/model_weights')"
      ]
    },
    {
      "cell_type": "code",
      "execution_count": null,
      "metadata": {
        "colab": {
          "background_save": true
        },
        "id": "8Odb5zmgKnjg",
        "outputId": "167cc110-e975-4dbf-b45c-7a437d13c1f0"
      },
      "outputs": [
        {
          "name": "stdout",
          "output_type": "stream",
          "text": [
            "  adding: transformer_weights/ (stored 0%)\n",
            "  adding: transformer_weights/model_weights.index (deflated 88%)\n",
            "  adding: transformer_weights/model_weights.data-00000-of-00001 (deflated 89%)\n",
            "  adding: transformer_weights/checkpoint (deflated 42%)\n"
          ]
        },
        {
          "data": {
            "application/javascript": [
              "\n",
              "    async function download(id, filename, size) {\n",
              "      if (!google.colab.kernel.accessAllowed) {\n",
              "        return;\n",
              "      }\n",
              "      const div = document.createElement('div');\n",
              "      const label = document.createElement('label');\n",
              "      label.textContent = `Downloading \"${filename}\": `;\n",
              "      div.appendChild(label);\n",
              "      const progress = document.createElement('progress');\n",
              "      progress.max = size;\n",
              "      div.appendChild(progress);\n",
              "      document.body.appendChild(div);\n",
              "\n",
              "      const buffers = [];\n",
              "      let downloaded = 0;\n",
              "\n",
              "      const channel = await google.colab.kernel.comms.open(id);\n",
              "      // Send a message to notify the kernel that we're ready.\n",
              "      channel.send({})\n",
              "\n",
              "      for await (const message of channel.messages) {\n",
              "        // Send a message to notify the kernel that we're ready.\n",
              "        channel.send({})\n",
              "        if (message.buffers) {\n",
              "          for (const buffer of message.buffers) {\n",
              "            buffers.push(buffer);\n",
              "            downloaded += buffer.byteLength;\n",
              "            progress.value = downloaded;\n",
              "          }\n",
              "        }\n",
              "      }\n",
              "      const blob = new Blob(buffers, {type: 'application/binary'});\n",
              "      const a = document.createElement('a');\n",
              "      a.href = window.URL.createObjectURL(blob);\n",
              "      a.download = filename;\n",
              "      div.appendChild(a);\n",
              "      a.click();\n",
              "      div.remove();\n",
              "    }\n",
              "  "
            ],
            "text/plain": [
              "<IPython.core.display.Javascript object>"
            ]
          },
          "metadata": {},
          "output_type": "display_data"
        },
        {
          "data": {
            "application/javascript": [
              "download(\"download_03eecf60-64a9-4e42-ba78-774f45047610\", \"model_weights.zip\", 5981421)"
            ],
            "text/plain": [
              "<IPython.core.display.Javascript object>"
            ]
          },
          "metadata": {},
          "output_type": "display_data"
        }
      ],
      "source": [
        "# Compress the weights directory (Optional)\n",
        "!zip -r model_weights.zip transformer_weights/\n",
        "\n",
        "# Download the weights file or zip\n",
        "from google.colab import files\n",
        "\n",
        "# Download the compressed file\n",
        "files.download('model_weights.zip')"
      ]
    },
    {
      "cell_type": "code",
      "execution_count": null,
      "metadata": {
        "id": "J2aIsw8sKnew"
      },
      "outputs": [],
      "source": []
    }
  ],
  "metadata": {
    "accelerator": "GPU",
    "colab": {
      "gpuType": "T4",
      "provenance": []
    },
    "kernelspec": {
      "display_name": "Python 3",
      "name": "python3"
    },
    "language_info": {
      "name": "python"
    }
  },
  "nbformat": 4,
  "nbformat_minor": 0
}